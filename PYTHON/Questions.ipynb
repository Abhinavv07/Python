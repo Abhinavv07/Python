{
 "cells": [
  {
   "cell_type": "code",
   "execution_count": null,
   "metadata": {},
   "outputs": [],
   "source": [
    "#inputting two numbers and printing their sum\n",
    "a = int(input(\"Enter first number :- \" ))\n",
    "b = int(input(\"Enter second number :- \" ))\n",
    "\n",
    "print(\"Sum of \", a, \" and \", b, \" is \", a + b)"
   ]
  },
  {
   "cell_type": "code",
   "execution_count": null,
   "metadata": {},
   "outputs": [],
   "source": [
    "#Inputting side of square and printing its area\n",
    "side = int(input(\"Enter side :- \"))\n",
    "print(\"Area of square :- \", side**2)"
   ]
  },
  {
   "cell_type": "code",
   "execution_count": null,
   "metadata": {},
   "outputs": [],
   "source": [
    "#Inputting floating point number and printing their average\n",
    "num1 = float(input(\"Enter first number :- \"))\n",
    "num2 = float(input(\"Enter first number :- \"))\n",
    "print(\"Average of \", a,\" and \", b, \" is \",(a+b)/2)"
   ]
  },
  {
   "cell_type": "code",
   "execution_count": null,
   "metadata": {},
   "outputs": [],
   "source": [
    "#Checking greater number\n",
    "a = int(input(\"Enter first number :- \" ))\n",
    "b = int(input(\"Enter second number :- \" ))\n",
    "print(a >= b)"
   ]
  },
  {
   "cell_type": "code",
   "execution_count": null,
   "metadata": {},
   "outputs": [],
   "source": [
    "#Grade studdents based on rank\n",
    "marks = int(input())\n",
    "if(marks >= 90):\n",
    "    grade = 'A'\n",
    "elif(marks < 90 and marks >= 80):\n",
    "    grade = 'B'\n",
    "elif(marks >= 70 and marks < 80):\n",
    "    grade = 'C'\n",
    "elif(marks < 70):\n",
    "    grade = 'D'\n",
    "\n",
    "print(\"Grade : \", grade)"
   ]
  },
  {
   "cell_type": "code",
   "execution_count": 5,
   "metadata": {},
   "outputs": [
    {
     "name": "stdout",
     "output_type": "stream",
     "text": [
      "Even\n"
     ]
    }
   ],
   "source": [
    "#Checking even or odd\n",
    "num = int(input(\"Enter number\"))\n",
    "\n",
    "if(num % 2 == 0):\n",
    "    print(\"Even\")\n",
    "else:\n",
    "    print(\"Odd\")"
   ]
  },
  {
   "cell_type": "code",
   "execution_count": 7,
   "metadata": {},
   "outputs": [
    {
     "name": "stdout",
     "output_type": "stream",
     "text": [
      "52  is greatest\n"
     ]
    }
   ],
   "source": [
    "#Checking greatest of three number\n",
    "n1 = int(input(\"Enter first number\"))\n",
    "n2 = int(input(\"Enter second number\"))\n",
    "n3 = int(input(\"Enter third number\"))\n",
    "\n",
    "if(n1 > n2 and n1 > n3):\n",
    "    print(n1, \" is greatest\")\n",
    "elif(n2 > n1 and n2 > n3):\n",
    "    print(n2, \" is greatest\")\n",
    "else:\n",
    "    print(n3, \" is greatest\")"
   ]
  },
  {
   "cell_type": "code",
   "execution_count": 8,
   "metadata": {},
   "outputs": [
    {
     "name": "stdout",
     "output_type": "stream",
     "text": [
      "Multiple of 7\n"
     ]
    }
   ],
   "source": [
    "#Checking multiple of 7\n",
    "num = int(input())\n",
    " \n",
    "if(num % 7 == 0):\n",
    "    print(\"Multiple of 7\")\n",
    "else:\n",
    "    print(\"Not a multiple of 7\")"
   ]
  }
 ],
 "metadata": {
  "kernelspec": {
   "display_name": "Python 3",
   "language": "python",
   "name": "python3"
  },
  "language_info": {
   "codemirror_mode": {
    "name": "ipython",
    "version": 3
   },
   "file_extension": ".py",
   "mimetype": "text/x-python",
   "name": "python",
   "nbconvert_exporter": "python",
   "pygments_lexer": "ipython3",
   "version": "3.13.2"
  }
 },
 "nbformat": 4,
 "nbformat_minor": 2
}
