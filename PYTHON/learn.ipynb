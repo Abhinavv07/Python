{
 "cells": [
  {
   "cell_type": "code",
   "execution_count": 6,
   "metadata": {},
   "outputs": [
    {
     "name": "stdout",
     "output_type": "stream",
     "text": [
      "Hello World\n"
     ]
    }
   ],
   "source": [
    "#First Program\n",
    "print(\"Hello World\")"
   ]
  },
  {
   "cell_type": "code",
   "execution_count": null,
   "metadata": {},
   "outputs": [
    {
     "name": "stdout",
     "output_type": "stream",
     "text": [
      "Abhinav is my name I am 17 years old\n"
     ]
    }
   ],
   "source": [
    "#for printing string \n",
    "print(\"Abhinav is my name\", \"I am 17 years old\") # ',' is same as '+'\n"
   ]
  },
  {
   "cell_type": "code",
   "execution_count": 5,
   "metadata": {},
   "outputs": [
    {
     "name": "stdout",
     "output_type": "stream",
     "text": [
      "My name is :-  Abhinav\n",
      "My age is :-  17\n",
      "My grade is :-  A\n"
     ]
    }
   ],
   "source": [
    "#variables\n",
    "name = \"Abhinav\" #String\n",
    "age = 17 #int\n",
    "grade = 'A' \n",
    "print(\"My name is :- \", name)\n",
    "print(\"My age is :- \", age)\n",
    "print(\"My grade is :- \", grade)"
   ]
  },
  {
   "cell_type": "code",
   "execution_count": null,
   "metadata": {},
   "outputs": [
    {
     "name": "stdout",
     "output_type": "stream",
     "text": [
      "<class 'str'>\n",
      "<class 'int'>\n",
      "<class 'float'>\n",
      "<class 'bool'>\n"
     ]
    }
   ],
   "source": [
    "#Data types\n",
    "name = \"Abhinav\" #String\n",
    "age = 17 #int\n",
    "id = 34.2 #float\n",
    "lol = True#boolean\n",
    "a = None\n",
    "print(type(name)) \n",
    "print(type(age)) \n",
    "print(type(id))\n",
    "print(type(lol))  \n",
    "print(type(None)) "
   ]
  },
  {
   "cell_type": "code",
   "execution_count": 12,
   "metadata": {},
   "outputs": [
    {
     "name": "stdout",
     "output_type": "stream",
     "text": [
      "Sum of  3  and  4.5  is  7.5\n"
     ]
    }
   ],
   "source": [
    "#Problem 1\n",
    "#Printing sum of two  numbers\n",
    "a = 3\n",
    "b = 4.5\n",
    "sum = a+b\n",
    "print(\"Sum of \",a,\" and \",b,\" is \",sum)"
   ]
  },
  {
   "cell_type": "code",
   "execution_count": 13,
   "metadata": {},
   "outputs": [
    {
     "name": "stdout",
     "output_type": "stream",
     "text": [
      "5.4\n"
     ]
    }
   ],
   "source": [
    "#Type Coversion\n",
    "a,b = 2,3.4\n",
    "sum = a + b\n",
    "print(sum) #here a is converted to float directly as float > int"
   ]
  },
  {
   "cell_type": "code",
   "execution_count": 14,
   "metadata": {},
   "outputs": [
    {
     "name": "stdout",
     "output_type": "stream",
     "text": [
      "5\n"
     ]
    }
   ],
   "source": [
    "#Type Casting\n",
    "a,b = 1,\"4\"\n",
    "c = int(b)\n",
    "sum = a + c\n",
    "print(sum)"
   ]
  }
 ],
 "metadata": {
  "kernelspec": {
   "display_name": "Python 3",
   "language": "python",
   "name": "python3"
  },
  "language_info": {
   "codemirror_mode": {
    "name": "ipython",
    "version": 3
   },
   "file_extension": ".py",
   "mimetype": "text/x-python",
   "name": "python",
   "nbconvert_exporter": "python",
   "pygments_lexer": "ipython3",
   "version": "3.13.2"
  }
 },
 "nbformat": 4,
 "nbformat_minor": 2
}
